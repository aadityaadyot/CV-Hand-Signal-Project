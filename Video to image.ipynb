{
 "cells": [
  {
   "cell_type": "code",
   "execution_count": 3,
   "id": "6690e24e",
   "metadata": {},
   "outputs": [],
   "source": [
    "import os\n",
    "import cv2"
   ]
  },
  {
   "cell_type": "code",
   "execution_count": 7,
   "id": "09df4510",
   "metadata": {},
   "outputs": [],
   "source": [
    "video_path= r'C:\\Users\\Aaditya Adyot\\Downloads\\Video to image conversion\\WIN_20240209_18_09_01_Pro.mp4'"
   ]
  },
  {
   "cell_type": "code",
   "execution_count": 9,
   "id": "e2cf3aa2",
   "metadata": {},
   "outputs": [],
   "source": [
    "# Open the video file\n",
    "video_path = r'C:\\Users\\Aaditya Adyot\\Downloads\\Video to image conversion\\WIN_20240209_18_09_01_Pro.mp4'  # Change this to the path of your video file\n",
    "cap = cv2.VideoCapture(video_path)\n",
    "\n",
    "# Check if the video file was successfully opened\n",
    "if not cap.isOpened():\n",
    "    print(\"Error: Unable to open video file\")\n",
    "    exit()\n",
    "\n",
    "# Create a directory to save the frames\n",
    "output_dir = r'C:\\Users\\Aaditya Adyot\\Downloads\\Video to image conversion\\Images'  # Change this to your desired output directory\n",
    "os.makedirs(output_dir, exist_ok=True)\n",
    "\n",
    "# Set the delay between frames in milliseconds\n",
    "frame_delay = 10  # 10 milliseconds (adjust as needed)\n",
    "\n",
    "# Initialize frame count\n",
    "frame_count = 0\n",
    "\n",
    "base_name= \"Hello\"\n",
    "\n",
    "# Loop through the video frame by frame\n",
    "while True:\n",
    "    # Read a frame from the video\n",
    "    ret, frame = cap.read()\n",
    "\n",
    "    # Check if the frame was successfully read\n",
    "    if not ret:\n",
    "        break  # Break the loop if no frame was read (end of video)\n",
    "\n",
    "    # Save the frame as an image file\n",
    "    frame_filename = os.path.join(output_dir, f'{base_name}_{frame_count+1}.jpg')\n",
    "    cv2.imwrite(frame_filename, frame)\n",
    "\n",
    "    # Increment frame count\n",
    "    frame_count += 1\n",
    "\n",
    "    # Wait for a key press or delay between frames\n",
    "    if cv2.waitKey(frame_delay) & 0xFF == ord('q'):\n",
    "        break\n",
    "\n",
    "# Release the video capture object\n",
    "cap.release()\n"
   ]
  },
  {
   "cell_type": "code",
   "execution_count": null,
   "id": "91f1b055",
   "metadata": {},
   "outputs": [],
   "source": []
  },
  {
   "cell_type": "code",
   "execution_count": 16,
   "id": "132cf0d6",
   "metadata": {},
   "outputs": [],
   "source": [
    "# Open the video file\n",
    "video_path = r'C:\\Users\\Aaditya Adyot\\Downloads\\Video to image conversion\\WIN_20240209_19_08_27_Pro.mp4'  # Change this to the path of your video file\n",
    "cap = cv2.VideoCapture(video_path)\n",
    "\n",
    "# Check if the video file was successfully opened\n",
    "if not cap.isOpened():\n",
    "    print(\"Error: Unable to open video file\")\n",
    "    exit()\n",
    "\n",
    "# Create a directory to save the frames\n",
    "output_dir = r'C:\\Users\\Aaditya Adyot\\Downloads\\Video to image conversion\\Images'  # Change this to your desired output directory\n",
    "os.makedirs(output_dir, exist_ok=True)\n",
    "\n",
    "# Set the capture interval (in frames)\n",
    "capture_interval = 15  # Capture one frame every 10 frames (adjust as needed)\n",
    "\n",
    "# Initialize frame count\n",
    "frame_count = 0\n",
    "\n",
    "base_name= \"Fuck Off\"\n",
    "\n",
    "# Loop through the video frame by frame\n",
    "while True:\n",
    "    # Read a frame from the video\n",
    "    ret, frame = cap.read()\n",
    "\n",
    "    # Check if the frame was successfully read\n",
    "    if not ret:\n",
    "        break  # Break the loop if no frame was read (end of video)\n",
    "\n",
    "    # Check if it's time to capture a frame based on the capture interval\n",
    "    if frame_count % capture_interval == 0:\n",
    "        # Save the frame as an image file\n",
    "        frame_filename = os.path.join(output_dir, f'{base_name}_{frame_count+1}.jpg')\n",
    "        cv2.imwrite(frame_filename, frame)\n",
    "\n",
    "    # Increment frame count\n",
    "    frame_count += 1\n",
    "\n",
    "# Release the video capture object\n",
    "cap.release()\n"
   ]
  },
  {
   "cell_type": "code",
   "execution_count": null,
   "id": "899806a6",
   "metadata": {},
   "outputs": [],
   "source": []
  },
  {
   "cell_type": "code",
   "execution_count": null,
   "id": "2c121b9c",
   "metadata": {},
   "outputs": [],
   "source": []
  },
  {
   "cell_type": "code",
   "execution_count": null,
   "id": "7a6b2572",
   "metadata": {},
   "outputs": [],
   "source": []
  },
  {
   "cell_type": "code",
   "execution_count": null,
   "id": "6664047b",
   "metadata": {},
   "outputs": [],
   "source": []
  },
  {
   "cell_type": "code",
   "execution_count": null,
   "id": "2219aae2",
   "metadata": {},
   "outputs": [],
   "source": []
  },
  {
   "cell_type": "code",
   "execution_count": null,
   "id": "e502536f",
   "metadata": {},
   "outputs": [],
   "source": []
  },
  {
   "cell_type": "code",
   "execution_count": null,
   "id": "920c0630",
   "metadata": {},
   "outputs": [],
   "source": []
  }
 ],
 "metadata": {
  "kernelspec": {
   "display_name": "Python 3 (ipykernel)",
   "language": "python",
   "name": "python3"
  },
  "language_info": {
   "codemirror_mode": {
    "name": "ipython",
    "version": 3
   },
   "file_extension": ".py",
   "mimetype": "text/x-python",
   "name": "python",
   "nbconvert_exporter": "python",
   "pygments_lexer": "ipython3",
   "version": "3.11.5"
  }
 },
 "nbformat": 4,
 "nbformat_minor": 5
}
